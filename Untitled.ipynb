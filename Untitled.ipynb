{
 "cells": [
  {
   "cell_type": "code",
   "execution_count": 3,
   "metadata": {
    "collapsed": true
   },
   "outputs": [],
   "source": [
    "import time\n",
    "\n",
    "verbose = False\n",
    "delay = 0.01\n",
    "items = 100"
   ]
  },
  {
   "cell_type": "code",
   "execution_count": 4,
   "metadata": {
    "collapsed": true
   },
   "outputs": [],
   "source": [
    "def busy_add(x,y, delay=0.01):\n",
    "    import time\n",
    "    for n in range(x):\n",
    "       x += n\n",
    "    for n in range(y):\n",
    "       y -= n\n",
    "    time.sleep(delay)\n",
    "    return x + y"
   ]
  },
  {
   "cell_type": "code",
   "execution_count": null,
   "metadata": {
    "collapsed": true
   },
   "outputs": [],
   "source": [
    "def timed_pool(pool, items=100, delay=0.1, verbose=False):\n",
    "    _x = range(-items//2,items//2,2)\n",
    "    _y = range(len(_x))\n",
    "    _d = [delay]*len(_x)\n",
    "\n",
    "    if verbose: print(pool)\n",
    "    start = time.time()\n",
    "    res = pool.map(busy_add, _x, _y, _d)\n",
    "    _t = time.time() - start\n",
    "    if verbose: print(\"time to queue: %s\" % _t)\n",
    "    start = time.time()\n",
    "    _sol_ = list(res)\n",
    "    t_ = time.time() - start\n",
    "    if verbose: print(\"time to results: %s\\n\" %  t_)\n",
    "    return _sol_"
   ]
  },
  {
   "cell_type": "code",
   "execution_count": 1,
   "metadata": {
    "collapsed": true
   },
   "outputs": [],
   "source": [
    "class BuiltinPool(object):\n",
    "    def map(self, *args):\n",
    "        return list(map(*args))\n",
    "\n",
    "std = timed_pool(BuiltinPool(), items, delay=0, verbose=False)\n",
    "\n",
    "\n",
    "def test_serial():\n",
    "    from pathos.pools import SerialPool as PS\n",
    "    pool = PS()\n",
    "    res = timed_pool(pool, items, delay, verbose)\n",
    "    assert res == std\n",
    "\n",
    "\n",
    "def test_pp():\n",
    "    from pathos.pools import ParallelPool as PPP\n",
    "    pool = PPP(servers=('localhost:5653','localhost:2414'))\n",
    "    res = timed_pool(pool, items, delay, verbose)\n",
    "    assert res == std\n",
    "\n",
    "\n",
    "def test_processing():\n",
    "    from pathos.pools import ProcessPool as MPP\n",
    "    pool = MPP()\n",
    "    res = timed_pool(pool, items, delay, verbose)\n",
    "    assert res == std\n",
    "\n",
    "\n",
    "def test_threading():\n",
    "    from pathos.pools import ThreadPool as MTP\n",
    "    pool = MTP()\n",
    "    res = timed_pool(pool, items, delay, verbose)\n",
    "    assert res == std\n",
    "\n",
    "\n",
    "if __name__ == '__main__':\n",
    "    if verbose:\n",
    "        print(\"CONFIG: delay = %s\" % delay)\n",
    "        print(\"CONFIG: items = %s\" % items)\n",
    "        print(\"\")\n",
    "\n",
    "    from pathos.helpers import freeze_support\n",
    "    freeze_support()\n",
    "    test_serial()\n",
    "    test_pp()\n",
    "    test_processing()\n",
    "test_threading()"
   ]
  },
  {
   "cell_type": "code",
   "execution_count": null,
   "metadata": {
    "collapsed": true
   },
   "outputs": [],
   "source": []
  }
 ],
 "metadata": {
  "kernelspec": {
   "display_name": "Python 2",
   "language": "python",
   "name": "python2"
  },
  "language_info": {
   "codemirror_mode": {
    "name": "ipython",
    "version": 2
   },
   "file_extension": ".py",
   "mimetype": "text/x-python",
   "name": "python",
   "nbconvert_exporter": "python",
   "pygments_lexer": "ipython2",
   "version": "2.7.13"
  }
 },
 "nbformat": 4,
 "nbformat_minor": 2
}
