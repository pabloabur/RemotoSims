{
 "cells": [
  {
   "cell_type": "code",
   "execution_count": 1,
   "metadata": {
    "collapsed": true
   },
   "outputs": [],
   "source": [
    "def host(id):\n",
    "    import socket\n",
    "    return \"Rank: %d -- %s\" % (id, socket.gethostname())"
   ]
  },
  {
   "cell_type": "code",
   "execution_count": 2,
   "metadata": {
    "collapsed": true
   },
   "outputs": [],
   "source": [
    "from pathos.helpers import freeze_support\n",
    "freeze_support()"
   ]
  },
  {
   "cell_type": "code",
   "execution_count": 3,
   "metadata": {
    "collapsed": true
   },
   "outputs": [],
   "source": [
    "from pathos.pools import ProcessPool as Pool\n",
    "pool = Pool()"
   ]
  },
  {
   "cell_type": "code",
   "execution_count": 4,
   "metadata": {},
   "outputs": [
    {
     "name": "stdout",
     "output_type": "stream",
     "text": [
      "Evaluate 5 items on 2 proc:\n",
      "<pool ProcessPool(ncpus=2)>\n",
      "Rank: 0 -- renato-XPS-8500\n",
      "Rank: 1 -- renato-XPS-8500\n",
      "Rank: 2 -- renato-XPS-8500\n",
      "Rank: 3 -- renato-XPS-8500\n",
      "Rank: 4 -- renato-XPS-8500\n",
      "\n"
     ]
    }
   ],
   "source": [
    "print(\"Evaluate 5 items on 2 proc:\")\n",
    "pool.ncpus = 2\n",
    "res3 = pool.map(host, range(5))\n",
    "print(pool)\n",
    "print('\\n'.join(res3))\n",
    "print('')"
   ]
  },
  {
   "cell_type": "code",
   "execution_count": 5,
   "metadata": {},
   "outputs": [
    {
     "name": "stdout",
     "output_type": "stream",
     "text": [
      "Evaluate 5 items on 10 proc:\n",
      "<pool ProcessPool(ncpus=10)>\n",
      "Rank: 0 -- renato-XPS-8500\n",
      "Rank: 1 -- renato-XPS-8500\n",
      "Rank: 2 -- renato-XPS-8500\n",
      "Rank: 3 -- renato-XPS-8500\n",
      "Rank: 4 -- renato-XPS-8500\n"
     ]
    }
   ],
   "source": [
    "print(\"Evaluate 5 items on 10 proc:\")\n",
    "pool.ncpus = 10\n",
    "res5 = pool.map(host, range(5)) \n",
    "print(pool)\n",
    "print('\\n'.join(res5))"
   ]
  },
  {
   "cell_type": "code",
   "execution_count": null,
   "metadata": {
    "collapsed": true
   },
   "outputs": [],
   "source": []
  }
 ],
 "metadata": {
  "kernelspec": {
   "display_name": "Python 2",
   "language": "python",
   "name": "python2"
  },
  "language_info": {
   "codemirror_mode": {
    "name": "ipython",
    "version": 2
   },
   "file_extension": ".py",
   "mimetype": "text/x-python",
   "name": "python",
   "nbconvert_exporter": "python",
   "pygments_lexer": "ipython2",
   "version": "2.7.13"
  }
 },
 "nbformat": 4,
 "nbformat_minor": 2
}
