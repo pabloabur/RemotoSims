{
 "cells": [
  {
   "cell_type": "code",
   "execution_count": null,
   "metadata": {
    "collapsed": true
   },
   "outputs": [],
   "source": [
    "# Parameters from Python\n",
    "## Connectivity\n",
    "idx = np.where(conf.confArray['f0']=='Con:RC_ext->SOL-S@soma|inhibitory')[0][0]\n",
    "conf.confArray['f1'][idx] = 4\n",
    "idx = np.where(conf.confArray['f0']=='Con:RC_ext->SOL-FR@soma|inhibitory')[0][0]\n",
    "conf.confArray['f1'][idx] = 4\n",
    "idx = np.where(conf.confArray['f0']=='Con:RC_ext->SOL-FF@soma|inhibitory')[0][0]\n",
    "conf.confArray['f1'][idx] = 4\n",
    "idx = np.where(conf.confArray['f0']=='Con:SOL-S>RC_ext-@soma|excitatory')[0][0]\n",
    "conf.confArray['f1'][idx] = 6\n",
    "idx = np.where(conf.confArray['f0']=='Con:SOL-FR>RC_ext-@soma|excitatory')[0][0]\n",
    "conf.confArray['f1'][idx] = 6\n",
    "idx = np.where(conf.confArray['f0']=='Con:SOL-FF>RC_ext-@soma|excitatory')[0][0]\n",
    "conf.confArray['f1'][idx] = 6\n",
    "\n",
    "## Conductances\n",
    "idx = np.where(conf.confArray['f0']=='gmax:RC_ext->SOL-S@soma|inhibitory')[0][0]\n",
    "conf.confArray['f1'][idx] = 0.44\n",
    "idx = np.where(conf.confArray['f0']=='gmax:RC_ext->SOL-FR@soma|inhibitory')[0][0]\n",
    "conf.confArray['f1'][idx] = 0.44\n",
    "idx = np.where(conf.confArray['f0']=='gmax:RC_ext->SOL-FF@soma|inhibitory')[0][0]\n",
    "conf.confArray['f1'][idx] = 0.44\n",
    "idx = np.where(conf.confArray['f0']=='gmax:SOL-S>RC_ext-@soma|excitatory')[0][0]\n",
    "conf.confArray['f1'][idx] = 0.15\n",
    "idx = np.where(conf.confArray['f0']=='gmax:SOL-FR>RC_ext-@soma|excitatory')[0][0]\n",
    "conf.confArray['f1'][idx] = 0.15\n",
    "idx = np.where(conf.confArray['f0']=='gmax:SOL-FF>RC_ext-@soma|excitatory')[0][0]\n",
    "conf.confArray['f1'][idx] = 0.15\n",
    "\n",
    "## Morphology\n",
    "idx = np.where(conf.confArray['f0']=='d@soma:RC_ext-')[0][0]\n",
    "conf.confArray['f1'][idx] = 25\n",
    "conf.confArray['f2'][idx] = 25\n",
    "idx = np.where(conf.confArray['f0']=='l@soma:RC_ext-')[0][0]\n",
    "conf.confArray['f1'][idx] = 242\n",
    "conf.confArray['f2'][idx] = 242\n",
    "idx = np.where(conf.confArray['f0']=='res@soma:RC_ext-')[0][0]\n",
    "conf.confArray['f1'][idx] = 760\n",
    "conf.confArray['f2'][idx] = 760"
   ]
  }
 ],
 "metadata": {
  "kernelspec": {
   "display_name": "Python 2",
   "language": "python",
   "name": "python2"
  },
  "language_info": {
   "codemirror_mode": {
    "name": "ipython",
    "version": 2
   },
   "file_extension": ".py",
   "mimetype": "text/x-python",
   "name": "python",
   "nbconvert_exporter": "python",
   "pygments_lexer": "ipython2",
   "version": "2.7.14"
  }
 },
 "nbformat": 4,
 "nbformat_minor": 2
}
