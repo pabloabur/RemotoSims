{
 "cells": [
  {
   "cell_type": "code",
   "execution_count": 1,
   "metadata": {
    "collapsed": true
   },
   "outputs": [],
   "source": [
    "from numpy import *\n",
    "import time \n",
    "import numpy as np"
   ]
  },
  {
   "cell_type": "code",
   "execution_count": 3,
   "metadata": {},
   "outputs": [
    {
     "name": "stdout",
     "output_type": "stream",
     "text": [
      "10 loops, best of 3: 87.3 ms per loop\n"
     ]
    }
   ],
   "source": [
    "x = random.random((18000,18000))\n",
    "v = random.random((18000))\n",
    "\n",
    "%timeit foo = dot(x, v)\n"
   ]
  },
  {
   "cell_type": "code",
   "execution_count": 4,
   "metadata": {},
   "outputs": [
    {
     "name": "stdout",
     "output_type": "stream",
     "text": [
      "100 loops, best of 3: 3.84 ms per loop\n"
     ]
    }
   ],
   "source": [
    "# test sparse matrix multiplication\n",
    "from scipy import sparse\n",
    "\n",
    "x1 = sparse.rand(18000,18000)\n",
    "x1=x1.tobsr()\n",
    "\n",
    "%timeit foo = x1.dot(v)\n"
   ]
  },
  {
   "cell_type": "code",
   "execution_count": 5,
   "metadata": {
    "collapsed": true
   },
   "outputs": [],
   "source": [
    "def SpMV_viaMKL( A, x ):\n",
    "     '''\n",
    "     Wrapper to Intel's SpMV\n",
    "     (Sparse Matrix-Vector multiply)\n",
    "     For medium-sized matrices, this is 4x faster\n",
    "     than scipy's default implementation\n",
    "     Stephen Becker, April 24 2014\n",
    "     stephen.beckr@gmail.com\n",
    "     '''\n",
    "\n",
    "     import numpy as np\n",
    "     import scipy.sparse as sparse\n",
    "     from ctypes import POINTER,c_void_p,c_int,c_char,c_double,byref,cdll\n",
    "     mkl = cdll.LoadLibrary(\"libmkl_rt.so\")\n",
    "\n",
    "     SpMV = mkl.mkl_cspblas_dcsrgemv\n",
    "     # Dissecting the \"cspblas_dcsrgemv\" name:\n",
    "     # \"c\" - for \"c-blas\" like interface (as opposed to fortran)\n",
    "     #    Also means expects sparse arrays to use 0-based indexing, which python does\n",
    "     # \"sp\"  for sparse\n",
    "     # \"d\"   for double-precision\n",
    "     # \"csr\" for compressed row format\n",
    "     # \"ge\"  for \"general\", e.g., the matrix has no special structure such as symmetry\n",
    "     # \"mv\"  for \"matrix-vector\" multiply\n",
    "\n",
    "     m, n = A.shape\n",
    "\n",
    "     # The data of the matrix\n",
    "     data    = A.data.ctypes.data_as(POINTER(c_double))\n",
    "     indptr  = A.indptr.ctypes.data_as(POINTER(c_int))\n",
    "     indices = A.indices.ctypes.data_as(POINTER(c_int))\n",
    "\n",
    "     # Allocate output, using same conventions as input\n",
    "     nVectors = 1\n",
    "     if x.ndim is 1:\n",
    "        y = np.empty(m,dtype=np.double,order='F')\n",
    "     elif x.shape[1] is 1:\n",
    "        y = np.empty((m,1),dtype=np.double,order='F')\n",
    "        \n",
    "\n",
    "   \n",
    "\n",
    "     np_x = x.ctypes.data_as(POINTER(c_double))\n",
    "     np_y = y.ctypes.data_as(POINTER(c_double))\n",
    "     # now call MKL. This returns the answer in np_y, which links to y\n",
    "     SpMV(byref(c_char(\"N\")), byref(c_int(m)),data ,indptr, indices, np_x, np_y ) \n",
    "\n",
    "     return y"
   ]
  },
  {
   "cell_type": "code",
   "execution_count": 6,
   "metadata": {},
   "outputs": [
    {
     "name": "stdout",
     "output_type": "stream",
     "text": [
      "1000 loops, best of 3: 1.59 ms per loop\n"
     ]
    }
   ],
   "source": [
    "x2  = x1.tocsr()\n",
    "\n",
    "%timeit foo = SpMV_viaMKL(A=x2,x=v)\n"
   ]
  },
  {
   "cell_type": "code",
   "execution_count": 7,
   "metadata": {
    "collapsed": true
   },
   "outputs": [],
   "source": [
    "import pyculib.sparse as pcu\n",
    "\n",
    "x4 = sparse.rand(18000,18000)\n",
    "x4= pcu.bsr_matrix(x4)\n",
    "\n"
   ]
  },
  {
   "cell_type": "code",
   "execution_count": 8,
   "metadata": {
    "collapsed": true
   },
   "outputs": [],
   "source": [
    "GPU = pcu.Sparse(0)"
   ]
  },
  {
   "cell_type": "code",
   "execution_count": 9,
   "metadata": {
    "collapsed": true
   },
   "outputs": [],
   "source": [
    "m,n = x4.shape\n",
    "nnz = x4.nnz\n",
    "descr = GPU.matdescr()\n",
    "csrVal = x4.data\n",
    "csrRowPtr = x4.indptr\n",
    "csrColInd = x4.indices\n",
    "\n",
    "y = np.empty(m,dtype=np.double)"
   ]
  },
  {
   "cell_type": "code",
   "execution_count": 10,
   "metadata": {},
   "outputs": [
    {
     "name": "stdout",
     "output_type": "stream",
     "text": [
      "100 loops, best of 3: 2.51 ms per loop\n"
     ]
    }
   ],
   "source": [
    "%timeit GPU.csrmv('N', m, n, nnz, 1.0, descr, csrVal, csrRowPtr, csrColInd, v, 0.0, y)"
   ]
  },
  {
   "cell_type": "code",
   "execution_count": null,
   "metadata": {},
   "outputs": [],
   "source": [
    "y"
   ]
  },
  {
   "cell_type": "code",
   "execution_count": 11,
   "metadata": {},
   "outputs": [
    {
     "data": {
      "text/plain": [
       "0"
      ]
     },
     "execution_count": 11,
     "metadata": {},
     "output_type": "execute_result"
    }
   ],
   "source": [
    "GPU.stream"
   ]
  },
  {
   "cell_type": "code",
   "execution_count": 12,
   "metadata": {
    "collapsed": true
   },
   "outputs": [],
   "source": [
    "GPU1 = pcu.Sparse(0)"
   ]
  },
  {
   "cell_type": "code",
   "execution_count": 13,
   "metadata": {},
   "outputs": [
    {
     "data": {
      "text/plain": [
       "0"
      ]
     },
     "execution_count": 13,
     "metadata": {},
     "output_type": "execute_result"
    }
   ],
   "source": [
    "GPU1.stream"
   ]
  },
  {
   "cell_type": "code",
   "execution_count": 14,
   "metadata": {},
   "outputs": [
    {
     "data": {
      "text/plain": [
       "<pyculib.sparse.binding.cuSparse at 0x7f1bf0623cd0>"
      ]
     },
     "execution_count": 14,
     "metadata": {},
     "output_type": "execute_result"
    }
   ],
   "source": [
    "GPU.dense2csc"
   ]
  },
  {
   "cell_type": "code",
   "execution_count": null,
   "metadata": {
    "collapsed": true
   },
   "outputs": [],
   "source": []
  }
 ],
 "metadata": {
  "kernelspec": {
   "display_name": "Python 2",
   "language": "python",
   "name": "python2"
  },
  "language_info": {
   "codemirror_mode": {
    "name": "ipython",
    "version": 2
   },
   "file_extension": ".py",
   "mimetype": "text/x-python",
   "name": "python",
   "nbconvert_exporter": "python",
   "pygments_lexer": "ipython2",
   "version": "2.7.14"
  }
 },
 "nbformat": 4,
 "nbformat_minor": 2
}
